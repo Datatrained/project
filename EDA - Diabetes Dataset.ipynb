{
 "cells": [
  {
   "cell_type": "code",
   "execution_count": 10,
   "metadata": {},
   "outputs": [],
   "source": [
    "# Step 1: Import libraries\n",
    "import numpy as np\n",
    "from sklearn.datasets import load_diabetes\n",
    "import plotly.express as px"
   ]
  },
  {
   "cell_type": "code",
   "execution_count": 11,
   "metadata": {},
   "outputs": [
    {
     "name": "stdout",
     "output_type": "stream",
     "text": [
      "New shape of X: (442, 11)\n"
     ]
    }
   ],
   "source": [
    "# Step 2: Load and preprocess dataset\n",
    "from sklearn import preprocessing\n",
    "\n",
    "X,y=load_diabetes(return_X_y=True)\n",
    "\n",
    "y=y.reshape(len(y),1) #reshaping from (m,) to (m,1). Creating a new axis.\n",
    "\n",
    "X=preprocessing.scale(X) #normalizing\n",
    "\n",
    "X=np.c_[np.ones((X.shape[0],1)),X] #adding bias column\n",
    "\n",
    "print(f\"New shape of X: {X.shape}\")"
   ]
  },
  {
   "cell_type": "code",
   "execution_count": 12,
   "metadata": {},
   "outputs": [],
   "source": [
    "# Step 3: Define Cost function\n",
    "def compute_cost(W,X,y):\n",
    "    m=X.shape[0] #number of samples\n",
    "    y_pred = np.dot(X,W) \n",
    "    cost=(1/(2*m))*np.sum(((y_pred-y)**2)) #MSE\n",
    "    return cost"
   ]
  },
  {
   "cell_type": "code",
   "execution_count": 13,
   "metadata": {},
   "outputs": [],
   "source": [
    "# Step 4: Define Gradient Descent function\n",
    "def update_parameters(W,X,learning_rate=0.01):\n",
    "    y_pred = np.dot(X,W)\n",
    "    diff=(y_pred-y)\n",
    "    m=X.shape[0]\n",
    "    dW=(1/m)*np.dot(X.T,diff)\n",
    "    W_new = W-(learning_rate)*dW\n",
    "    return W_new"
   ]
  },
  {
   "cell_type": "code",
   "execution_count": 14,
   "metadata": {},
   "outputs": [],
   "source": [
    "# Here, we stop the descent when the cost doesn’t change significantly .i.e when the change in cost is less than the threshold.\n",
    "def gradient_descent(W,X,y,threshold=0.0001,num_iters=1000,learning_rate=0.01):\n",
    "    assert(X.shape[0]==y.shape[0])\n",
    "    J_history=[]\n",
    "    i=0\n",
    "    change=1\n",
    "    cost=float('inf')\n",
    "    while i<num_iters and change>threshold:\n",
    "        cost_prev=cost\n",
    "        cost=compute_cost(W,X,y)\n",
    "        change=cost_prev-cost\n",
    "        W=update_parameters(W,X,learning_rate=learning_rate)\n",
    "        J_history.append(cost)\n",
    "        i+=1\n",
    "    return J_history, W"
   ]
  },
  {
   "cell_type": "code",
   "execution_count": 15,
   "metadata": {},
   "outputs": [
    {
     "name": "stdout",
     "output_type": "stream",
     "text": [
      "Initial Cost: 14306.71343982501\n",
      "Final cost: 1438.424524521696\n",
      "Final weights: [[152.13344122]\n",
      " [ -0.32201476]\n",
      " [-11.24787154]\n",
      " [ 25.13831232]\n",
      " [ 15.31612137]\n",
      " [ -6.03331381]\n",
      " [ -2.85046602]\n",
      " [ -8.85954475]\n",
      " [  5.19790009]\n",
      " [ 23.72122806]\n",
      " [  3.31958464]]\n"
     ]
    }
   ],
   "source": [
    "# Step 5: Run\n",
    "iters=1500\n",
    "learning_rate=0.01\n",
    "\n",
    "W=np.random.rand(X.shape[1],1) #initialize random weights \n",
    "\n",
    "print(f'Initial Cost: {compute_cost(W,X,y)}')\n",
    "\n",
    "J_history, weights = gradient_descent(W,X,y,num_iters=iters,learning_rate=learning_rate) #perform gradient descent\n",
    "\n",
    "print(f'Final cost: {J_history[-1]}') #print final cost\n",
    "print(f'Final weights: {weights}') #print final weights"
   ]
  },
  {
   "cell_type": "code",
   "execution_count": 16,
   "metadata": {},
   "outputs": [
    {
     "ename": "ValueError",
     "evalue": "\nThe orca executable is required to export figures as static images,\nbut it could not be found on the system path.\n\nSearched for executable 'orca' on the following path:\n    C:\\Users\\Prashant\\anaconda3\n    C:\\Users\\Prashant\\anaconda3\\Library\\mingw-w64\\bin\n    C:\\Users\\Prashant\\anaconda3\\Library\\usr\\bin\n    C:\\Users\\Prashant\\anaconda3\\Library\\bin\n    C:\\Users\\Prashant\\anaconda3\\Scripts\n    C:\\Windows\\system32\n    C:\\Windows\n    C:\\Windows\\System32\\Wbem\n    C:\\Windows\\System32\\WindowsPowerShell\\v1.0\\\n    C:\\Windows\\System32\\OpenSSH\\\n    C:\\Program Files\\NVIDIA Corporation\\NVIDIA NvDLISR\n    C:\\Program Files (x86)\\NVIDIA Corporation\\PhysX\\Common\n    C:\\Android\n    C:\\WINDOWS\\system32\n    C:\\WINDOWS\n    C:\\WINDOWS\\System32\\Wbem\n    C:\\WINDOWS\\System32\\WindowsPowerShell\\v1.0\\\n    C:\\WINDOWS\\System32\\OpenSSH\\\n    C:\\Program Files\\MySQL\\MySQL Shell 8.0\\bin\\\n    C:\\Users\\Prashant\\AppData\\Local\\Microsoft\\WindowsApps\n    \n    C:\\Users\\Prashant\\anaconda3\\lib\\site-packages\\numpy\\.libs\n    C:\\Users\\Prashant\\anaconda3\\lib\\site-packages\\scipy\\.libs\n\nIf you haven't installed orca yet, you can do so using conda as follows:\n\n    $ conda install -c plotly plotly-orca\n\nAlternatively, see other installation methods in the orca project README at\nhttps://github.com/plotly/orca\n\nAfter installation is complete, no further configuration should be needed.\n\nIf you have installed orca, then for some reason plotly.py was unable to\nlocate it. In this case, set the `plotly.io.orca.config.executable`\nproperty to the full path of your orca executable. For example:\n\n    >>> plotly.io.orca.config.executable = '/path/to/orca'\n\nAfter updating this executable property, try the export operation again.\nIf it is successful then you may want to save this configuration so that it\nwill be applied automatically in future sessions. You can do this as follows:\n\n    >>> plotly.io.orca.config.save()\n\nIf you're still having trouble, feel free to ask for help on the forums at\nhttps://community.plot.ly/c/api/python\n",
     "output_type": "error",
     "traceback": [
      "\u001b[1;31m---------------------------------------------------------------------------\u001b[0m",
      "\u001b[1;31mValueError\u001b[0m                                Traceback (most recent call last)",
      "\u001b[1;32m<ipython-input-16-4eb38493c5e2>\u001b[0m in \u001b[0;36m<module>\u001b[1;34m\u001b[0m\n\u001b[0;32m      7\u001b[0m     \u001b[0mfig\u001b[0m\u001b[1;33m.\u001b[0m\u001b[0mshow\u001b[0m\u001b[1;33m(\u001b[0m\u001b[1;34m'png'\u001b[0m\u001b[1;33m)\u001b[0m \u001b[1;31m#png for visibility in GitHub\u001b[0m\u001b[1;33m\u001b[0m\u001b[1;33m\u001b[0m\u001b[0m\n\u001b[0;32m      8\u001b[0m \u001b[1;33m\u001b[0m\u001b[0m\n\u001b[1;32m----> 9\u001b[1;33m \u001b[0mplot_descent\u001b[0m\u001b[1;33m(\u001b[0m\u001b[0mJ_history\u001b[0m\u001b[1;33m)\u001b[0m\u001b[1;33m\u001b[0m\u001b[1;33m\u001b[0m\u001b[0m\n\u001b[0m",
      "\u001b[1;32m<ipython-input-16-4eb38493c5e2>\u001b[0m in \u001b[0;36mplot_descent\u001b[1;34m(J_history)\u001b[0m\n\u001b[0;32m      5\u001b[0m                       \u001b[0mxaxis_title\u001b[0m\u001b[1;33m=\u001b[0m\u001b[1;34m'Number of iterations-->'\u001b[0m\u001b[1;33m,\u001b[0m\u001b[1;33m\u001b[0m\u001b[1;33m\u001b[0m\u001b[0m\n\u001b[0;32m      6\u001b[0m                       yaxis_title='Cost -->')\n\u001b[1;32m----> 7\u001b[1;33m     \u001b[0mfig\u001b[0m\u001b[1;33m.\u001b[0m\u001b[0mshow\u001b[0m\u001b[1;33m(\u001b[0m\u001b[1;34m'png'\u001b[0m\u001b[1;33m)\u001b[0m \u001b[1;31m#png for visibility in GitHub\u001b[0m\u001b[1;33m\u001b[0m\u001b[1;33m\u001b[0m\u001b[0m\n\u001b[0m\u001b[0;32m      8\u001b[0m \u001b[1;33m\u001b[0m\u001b[0m\n\u001b[0;32m      9\u001b[0m \u001b[0mplot_descent\u001b[0m\u001b[1;33m(\u001b[0m\u001b[0mJ_history\u001b[0m\u001b[1;33m)\u001b[0m\u001b[1;33m\u001b[0m\u001b[1;33m\u001b[0m\u001b[0m\n",
      "\u001b[1;32m~\\anaconda3\\lib\\site-packages\\plotly\\basedatatypes.py\u001b[0m in \u001b[0;36mshow\u001b[1;34m(self, *args, **kwargs)\u001b[0m\n\u001b[0;32m   2869\u001b[0m         \u001b[1;32mimport\u001b[0m \u001b[0mplotly\u001b[0m\u001b[1;33m.\u001b[0m\u001b[0mio\u001b[0m \u001b[1;32mas\u001b[0m \u001b[0mpio\u001b[0m\u001b[1;33m\u001b[0m\u001b[1;33m\u001b[0m\u001b[0m\n\u001b[0;32m   2870\u001b[0m \u001b[1;33m\u001b[0m\u001b[0m\n\u001b[1;32m-> 2871\u001b[1;33m         \u001b[1;32mreturn\u001b[0m \u001b[0mpio\u001b[0m\u001b[1;33m.\u001b[0m\u001b[0mshow\u001b[0m\u001b[1;33m(\u001b[0m\u001b[0mself\u001b[0m\u001b[1;33m,\u001b[0m \u001b[1;33m*\u001b[0m\u001b[0margs\u001b[0m\u001b[1;33m,\u001b[0m \u001b[1;33m**\u001b[0m\u001b[0mkwargs\u001b[0m\u001b[1;33m)\u001b[0m\u001b[1;33m\u001b[0m\u001b[1;33m\u001b[0m\u001b[0m\n\u001b[0m\u001b[0;32m   2872\u001b[0m \u001b[1;33m\u001b[0m\u001b[0m\n\u001b[0;32m   2873\u001b[0m     \u001b[1;32mdef\u001b[0m \u001b[0mto_json\u001b[0m\u001b[1;33m(\u001b[0m\u001b[0mself\u001b[0m\u001b[1;33m,\u001b[0m \u001b[1;33m*\u001b[0m\u001b[0margs\u001b[0m\u001b[1;33m,\u001b[0m \u001b[1;33m**\u001b[0m\u001b[0mkwargs\u001b[0m\u001b[1;33m)\u001b[0m\u001b[1;33m:\u001b[0m\u001b[1;33m\u001b[0m\u001b[1;33m\u001b[0m\u001b[0m\n",
      "\u001b[1;32m~\\anaconda3\\lib\\site-packages\\plotly\\io\\_renderers.py\u001b[0m in \u001b[0;36mshow\u001b[1;34m(fig, renderer, validate, **kwargs)\u001b[0m\n\u001b[0;32m    375\u001b[0m \u001b[1;33m\u001b[0m\u001b[0m\n\u001b[0;32m    376\u001b[0m     \u001b[1;31m# Mimetype renderers\u001b[0m\u001b[1;33m\u001b[0m\u001b[1;33m\u001b[0m\u001b[1;33m\u001b[0m\u001b[0m\n\u001b[1;32m--> 377\u001b[1;33m     \u001b[0mbundle\u001b[0m \u001b[1;33m=\u001b[0m \u001b[0mrenderers\u001b[0m\u001b[1;33m.\u001b[0m\u001b[0m_build_mime_bundle\u001b[0m\u001b[1;33m(\u001b[0m\u001b[0mfig_dict\u001b[0m\u001b[1;33m,\u001b[0m \u001b[0mrenderers_string\u001b[0m\u001b[1;33m=\u001b[0m\u001b[0mrenderer\u001b[0m\u001b[1;33m,\u001b[0m \u001b[1;33m**\u001b[0m\u001b[0mkwargs\u001b[0m\u001b[1;33m)\u001b[0m\u001b[1;33m\u001b[0m\u001b[1;33m\u001b[0m\u001b[0m\n\u001b[0m\u001b[0;32m    378\u001b[0m     \u001b[1;32mif\u001b[0m \u001b[0mbundle\u001b[0m\u001b[1;33m:\u001b[0m\u001b[1;33m\u001b[0m\u001b[1;33m\u001b[0m\u001b[0m\n\u001b[0;32m    379\u001b[0m         \u001b[1;32mif\u001b[0m \u001b[1;32mnot\u001b[0m \u001b[0mipython_display\u001b[0m\u001b[1;33m:\u001b[0m\u001b[1;33m\u001b[0m\u001b[1;33m\u001b[0m\u001b[0m\n",
      "\u001b[1;32m~\\anaconda3\\lib\\site-packages\\plotly\\io\\_renderers.py\u001b[0m in \u001b[0;36m_build_mime_bundle\u001b[1;34m(self, fig_dict, renderers_string, **kwargs)\u001b[0m\n\u001b[0;32m    295\u001b[0m                         \u001b[0msetattr\u001b[0m\u001b[1;33m(\u001b[0m\u001b[0mrenderer\u001b[0m\u001b[1;33m,\u001b[0m \u001b[0mk\u001b[0m\u001b[1;33m,\u001b[0m \u001b[0mv\u001b[0m\u001b[1;33m)\u001b[0m\u001b[1;33m\u001b[0m\u001b[1;33m\u001b[0m\u001b[0m\n\u001b[0;32m    296\u001b[0m \u001b[1;33m\u001b[0m\u001b[0m\n\u001b[1;32m--> 297\u001b[1;33m                 \u001b[0mbundle\u001b[0m\u001b[1;33m.\u001b[0m\u001b[0mupdate\u001b[0m\u001b[1;33m(\u001b[0m\u001b[0mrenderer\u001b[0m\u001b[1;33m.\u001b[0m\u001b[0mto_mimebundle\u001b[0m\u001b[1;33m(\u001b[0m\u001b[0mfig_dict\u001b[0m\u001b[1;33m)\u001b[0m\u001b[1;33m)\u001b[0m\u001b[1;33m\u001b[0m\u001b[1;33m\u001b[0m\u001b[0m\n\u001b[0m\u001b[0;32m    298\u001b[0m \u001b[1;33m\u001b[0m\u001b[0m\n\u001b[0;32m    299\u001b[0m         \u001b[1;32mreturn\u001b[0m \u001b[0mbundle\u001b[0m\u001b[1;33m\u001b[0m\u001b[1;33m\u001b[0m\u001b[0m\n",
      "\u001b[1;32m~\\anaconda3\\lib\\site-packages\\plotly\\io\\_base_renderers.py\u001b[0m in \u001b[0;36mto_mimebundle\u001b[1;34m(self, fig_dict)\u001b[0m\n\u001b[0;32m    132\u001b[0m             \u001b[0mscale\u001b[0m\u001b[1;33m=\u001b[0m\u001b[0mself\u001b[0m\u001b[1;33m.\u001b[0m\u001b[0mscale\u001b[0m\u001b[1;33m,\u001b[0m\u001b[1;33m\u001b[0m\u001b[1;33m\u001b[0m\u001b[0m\n\u001b[0;32m    133\u001b[0m             \u001b[0mvalidate\u001b[0m\u001b[1;33m=\u001b[0m\u001b[1;32mFalse\u001b[0m\u001b[1;33m,\u001b[0m\u001b[1;33m\u001b[0m\u001b[1;33m\u001b[0m\u001b[0m\n\u001b[1;32m--> 134\u001b[1;33m             \u001b[0mengine\u001b[0m\u001b[1;33m=\u001b[0m\u001b[0mself\u001b[0m\u001b[1;33m.\u001b[0m\u001b[0mengine\u001b[0m\u001b[1;33m,\u001b[0m\u001b[1;33m\u001b[0m\u001b[1;33m\u001b[0m\u001b[0m\n\u001b[0m\u001b[0;32m    135\u001b[0m         )\n\u001b[0;32m    136\u001b[0m \u001b[1;33m\u001b[0m\u001b[0m\n",
      "\u001b[1;32m~\\anaconda3\\lib\\site-packages\\plotly\\io\\_kaleido.py\u001b[0m in \u001b[0;36mto_image\u001b[1;34m(fig, format, width, height, scale, validate, engine)\u001b[0m\n\u001b[0;32m    106\u001b[0m             \u001b[0mheight\u001b[0m\u001b[1;33m=\u001b[0m\u001b[0mheight\u001b[0m\u001b[1;33m,\u001b[0m\u001b[1;33m\u001b[0m\u001b[1;33m\u001b[0m\u001b[0m\n\u001b[0;32m    107\u001b[0m             \u001b[0mscale\u001b[0m\u001b[1;33m=\u001b[0m\u001b[0mscale\u001b[0m\u001b[1;33m,\u001b[0m\u001b[1;33m\u001b[0m\u001b[1;33m\u001b[0m\u001b[0m\n\u001b[1;32m--> 108\u001b[1;33m             \u001b[0mvalidate\u001b[0m\u001b[1;33m=\u001b[0m\u001b[0mvalidate\u001b[0m\u001b[1;33m,\u001b[0m\u001b[1;33m\u001b[0m\u001b[1;33m\u001b[0m\u001b[0m\n\u001b[0m\u001b[0;32m    109\u001b[0m         )\n\u001b[0;32m    110\u001b[0m     \u001b[1;32melif\u001b[0m \u001b[0mengine\u001b[0m \u001b[1;33m!=\u001b[0m \u001b[1;34m\"kaleido\"\u001b[0m\u001b[1;33m:\u001b[0m\u001b[1;33m\u001b[0m\u001b[1;33m\u001b[0m\u001b[0m\n",
      "\u001b[1;32m~\\anaconda3\\lib\\site-packages\\plotly\\io\\_orca.py\u001b[0m in \u001b[0;36mto_image\u001b[1;34m(fig, format, width, height, scale, validate)\u001b[0m\n\u001b[0;32m   1533\u001b[0m     \u001b[1;31m# Make sure orca sever is running\u001b[0m\u001b[1;33m\u001b[0m\u001b[1;33m\u001b[0m\u001b[1;33m\u001b[0m\u001b[0m\n\u001b[0;32m   1534\u001b[0m     \u001b[1;31m# -------------------------------\u001b[0m\u001b[1;33m\u001b[0m\u001b[1;33m\u001b[0m\u001b[1;33m\u001b[0m\u001b[0m\n\u001b[1;32m-> 1535\u001b[1;33m     \u001b[0mensure_server\u001b[0m\u001b[1;33m(\u001b[0m\u001b[1;33m)\u001b[0m\u001b[1;33m\u001b[0m\u001b[1;33m\u001b[0m\u001b[0m\n\u001b[0m\u001b[0;32m   1536\u001b[0m \u001b[1;33m\u001b[0m\u001b[0m\n\u001b[0;32m   1537\u001b[0m     \u001b[1;31m# Handle defaults\u001b[0m\u001b[1;33m\u001b[0m\u001b[1;33m\u001b[0m\u001b[1;33m\u001b[0m\u001b[0m\n",
      "\u001b[1;32m~\\anaconda3\\lib\\site-packages\\plotly\\io\\_orca.py\u001b[0m in \u001b[0;36mensure_server\u001b[1;34m()\u001b[0m\n\u001b[0;32m   1388\u001b[0m         \u001b[1;31m# Validate orca executable only if server_url is not provided\u001b[0m\u001b[1;33m\u001b[0m\u001b[1;33m\u001b[0m\u001b[1;33m\u001b[0m\u001b[0m\n\u001b[0;32m   1389\u001b[0m         \u001b[1;32mif\u001b[0m \u001b[0mstatus\u001b[0m\u001b[1;33m.\u001b[0m\u001b[0mstate\u001b[0m \u001b[1;33m==\u001b[0m \u001b[1;34m\"unvalidated\"\u001b[0m\u001b[1;33m:\u001b[0m\u001b[1;33m\u001b[0m\u001b[1;33m\u001b[0m\u001b[0m\n\u001b[1;32m-> 1390\u001b[1;33m             \u001b[0mvalidate_executable\u001b[0m\u001b[1;33m(\u001b[0m\u001b[1;33m)\u001b[0m\u001b[1;33m\u001b[0m\u001b[1;33m\u001b[0m\u001b[0m\n\u001b[0m\u001b[0;32m   1391\u001b[0m         \u001b[1;31m# Acquire lock to make sure that we keep the properties of orca_state\u001b[0m\u001b[1;33m\u001b[0m\u001b[1;33m\u001b[0m\u001b[1;33m\u001b[0m\u001b[0m\n\u001b[0;32m   1392\u001b[0m         \u001b[1;31m# consistent across threads\u001b[0m\u001b[1;33m\u001b[0m\u001b[1;33m\u001b[0m\u001b[1;33m\u001b[0m\u001b[0m\n",
      "\u001b[1;32m~\\anaconda3\\lib\\site-packages\\plotly\\io\\_orca.py\u001b[0m in \u001b[0;36mvalidate_executable\u001b[1;34m()\u001b[0m\n\u001b[0;32m   1085\u001b[0m                 \u001b[0mexecutable\u001b[0m\u001b[1;33m=\u001b[0m\u001b[0mconfig\u001b[0m\u001b[1;33m.\u001b[0m\u001b[0mexecutable\u001b[0m\u001b[1;33m,\u001b[0m\u001b[1;33m\u001b[0m\u001b[1;33m\u001b[0m\u001b[0m\n\u001b[0;32m   1086\u001b[0m                 \u001b[0mformatted_path\u001b[0m\u001b[1;33m=\u001b[0m\u001b[0mformatted_path\u001b[0m\u001b[1;33m,\u001b[0m\u001b[1;33m\u001b[0m\u001b[1;33m\u001b[0m\u001b[0m\n\u001b[1;32m-> 1087\u001b[1;33m                 \u001b[0minstructions\u001b[0m\u001b[1;33m=\u001b[0m\u001b[0minstall_location_instructions\u001b[0m\u001b[1;33m,\u001b[0m\u001b[1;33m\u001b[0m\u001b[1;33m\u001b[0m\u001b[0m\n\u001b[0m\u001b[0;32m   1088\u001b[0m             )\n\u001b[0;32m   1089\u001b[0m         )\n",
      "\u001b[1;31mValueError\u001b[0m: \nThe orca executable is required to export figures as static images,\nbut it could not be found on the system path.\n\nSearched for executable 'orca' on the following path:\n    C:\\Users\\Prashant\\anaconda3\n    C:\\Users\\Prashant\\anaconda3\\Library\\mingw-w64\\bin\n    C:\\Users\\Prashant\\anaconda3\\Library\\usr\\bin\n    C:\\Users\\Prashant\\anaconda3\\Library\\bin\n    C:\\Users\\Prashant\\anaconda3\\Scripts\n    C:\\Windows\\system32\n    C:\\Windows\n    C:\\Windows\\System32\\Wbem\n    C:\\Windows\\System32\\WindowsPowerShell\\v1.0\\\n    C:\\Windows\\System32\\OpenSSH\\\n    C:\\Program Files\\NVIDIA Corporation\\NVIDIA NvDLISR\n    C:\\Program Files (x86)\\NVIDIA Corporation\\PhysX\\Common\n    C:\\Android\n    C:\\WINDOWS\\system32\n    C:\\WINDOWS\n    C:\\WINDOWS\\System32\\Wbem\n    C:\\WINDOWS\\System32\\WindowsPowerShell\\v1.0\\\n    C:\\WINDOWS\\System32\\OpenSSH\\\n    C:\\Program Files\\MySQL\\MySQL Shell 8.0\\bin\\\n    C:\\Users\\Prashant\\AppData\\Local\\Microsoft\\WindowsApps\n    \n    C:\\Users\\Prashant\\anaconda3\\lib\\site-packages\\numpy\\.libs\n    C:\\Users\\Prashant\\anaconda3\\lib\\site-packages\\scipy\\.libs\n\nIf you haven't installed orca yet, you can do so using conda as follows:\n\n    $ conda install -c plotly plotly-orca\n\nAlternatively, see other installation methods in the orca project README at\nhttps://github.com/plotly/orca\n\nAfter installation is complete, no further configuration should be needed.\n\nIf you have installed orca, then for some reason plotly.py was unable to\nlocate it. In this case, set the `plotly.io.orca.config.executable`\nproperty to the full path of your orca executable. For example:\n\n    >>> plotly.io.orca.config.executable = '/path/to/orca'\n\nAfter updating this executable property, try the export operation again.\nIf it is successful then you may want to save this configuration so that it\nwill be applied automatically in future sessions. You can do this as follows:\n\n    >>> plotly.io.orca.config.save()\n\nIf you're still having trouble, feel free to ask for help on the forums at\nhttps://community.plot.ly/c/api/python\n"
     ]
    }
   ],
   "source": [
    "# Step 6: Plot descent\n",
    "def plot_descent(J_history):\n",
    "    fig=px.scatter(x=range(len(J_history)),y=J_history)\n",
    "    fig.update_layout(title='Cost vs Iterations',\n",
    "                      xaxis_title='Number of iterations-->',\n",
    "                      yaxis_title='Cost -->')\n",
    "    fig.show('png') #png for visibility in GitHub\n",
    "  \n",
    "plot_descent(J_history)"
   ]
  },
  {
   "cell_type": "code",
   "execution_count": 31,
   "metadata": {},
   "outputs": [
    {
     "data": {
      "text/plain": [
       "LinearRegression(fit_intercept=False)"
      ]
     },
     "execution_count": 31,
     "metadata": {},
     "output_type": "execute_result"
    }
   ],
   "source": [
    "# Let’s train the our model with scikit-learn’s LinearRegression() function.\n",
    "from sklearn.linear_model import LinearRegression\n",
    "linear_regressor=LinearRegression(fit_intercept=False)\n",
    "linear_regressor.fit(X,y)"
   ]
  },
  {
   "cell_type": "code",
   "execution_count": 33,
   "metadata": {},
   "outputs": [],
   "source": [
    "Y_pred = linear_regressor.predict(X)"
   ]
  },
  {
   "cell_type": "code",
   "execution_count": 36,
   "metadata": {},
   "outputs": [
    {
     "name": "stdout",
     "output_type": "stream",
     "text": [
      "R2 score for train: 0.5177494254132934\n"
     ]
    }
   ],
   "source": [
    "print(f'R2 score for train: {linear_regressor.score(X, y)}')"
   ]
  },
  {
   "cell_type": "code",
   "execution_count": 37,
   "metadata": {},
   "outputs": [],
   "source": [
    "y_pred_test = linear_regressor.predict(X)"
   ]
  },
  {
   "cell_type": "code",
   "execution_count": 38,
   "metadata": {},
   "outputs": [
    {
     "name": "stdout",
     "output_type": "stream",
     "text": [
      "mean squared error train : 2859.6903987680657\n"
     ]
    }
   ],
   "source": [
    "from sklearn.metrics import mean_squared_error\n",
    "print(f'mean squared error train : {mean_squared_error(y, y_pred)}')"
   ]
  },
  {
   "cell_type": "markdown",
   "metadata": {},
   "source": [
    "# End of EDA"
   ]
  },
  {
   "cell_type": "code",
   "execution_count": null,
   "metadata": {},
   "outputs": [],
   "source": []
  }
 ],
 "metadata": {
  "kernelspec": {
   "display_name": "Python 3",
   "language": "python",
   "name": "python3"
  },
  "language_info": {
   "codemirror_mode": {
    "name": "ipython",
    "version": 3
   },
   "file_extension": ".py",
   "mimetype": "text/x-python",
   "name": "python",
   "nbconvert_exporter": "python",
   "pygments_lexer": "ipython3",
   "version": "3.7.6"
  }
 },
 "nbformat": 4,
 "nbformat_minor": 4
}
